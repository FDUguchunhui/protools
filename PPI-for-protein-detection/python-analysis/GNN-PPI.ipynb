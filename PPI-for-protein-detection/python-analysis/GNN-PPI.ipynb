{
 "cells": [
  {
   "cell_type": "code",
   "execution_count": 66,
   "metadata": {
    "collapsed": true,
    "pycharm": {
     "name": "#%%\n"
    }
   },
   "outputs": [],
   "source": [
    "from IPython.core.interactiveshell import InteractiveShell\n",
    "InteractiveShell.ast_node_interactivity = \"all\"\n",
    "import pandas as pd\n",
    "import numpy as np"
   ]
  },
  {
   "cell_type": "markdown",
   "source": [
    "Import data from csv fies"
   ],
   "metadata": {
    "collapsed": false,
    "pycharm": {
     "name": "#%% md\n"
    }
   }
  },
  {
   "cell_type": "code",
   "execution_count": 67,
   "outputs": [
    {
     "data": {
      "text/plain": "  protein1_acc protein2_acc  combined_score\n0       P84085       Q14123             155\n1       P84085       Q13177             197\n2       P84085       O95755             222\n3       P84085       Q13905             181\n4       P84085       Q15057             767",
      "text/html": "<div>\n<style scoped>\n    .dataframe tbody tr th:only-of-type {\n        vertical-align: middle;\n    }\n\n    .dataframe tbody tr th {\n        vertical-align: top;\n    }\n\n    .dataframe thead th {\n        text-align: right;\n    }\n</style>\n<table border=\"1\" class=\"dataframe\">\n  <thead>\n    <tr style=\"text-align: right;\">\n      <th></th>\n      <th>protein1_acc</th>\n      <th>protein2_acc</th>\n      <th>combined_score</th>\n    </tr>\n  </thead>\n  <tbody>\n    <tr>\n      <th>0</th>\n      <td>P84085</td>\n      <td>Q14123</td>\n      <td>155</td>\n    </tr>\n    <tr>\n      <th>1</th>\n      <td>P84085</td>\n      <td>Q13177</td>\n      <td>197</td>\n    </tr>\n    <tr>\n      <th>2</th>\n      <td>P84085</td>\n      <td>O95755</td>\n      <td>222</td>\n    </tr>\n    <tr>\n      <th>3</th>\n      <td>P84085</td>\n      <td>Q13905</td>\n      <td>181</td>\n    </tr>\n    <tr>\n      <th>4</th>\n      <td>P84085</td>\n      <td>Q15057</td>\n      <td>767</td>\n    </tr>\n  </tbody>\n</table>\n</div>"
     },
     "execution_count": 67,
     "metadata": {},
     "output_type": "execute_result"
    }
   ],
   "source": [
    "ppi_dat = pd.read_csv('../data/STRING/STRING-interaction-swiss.csv')\n",
    "ppi_dat.head()"
   ],
   "metadata": {
    "collapsed": false,
    "pycharm": {
     "name": "#%%\n"
    }
   }
  },
  {
   "cell_type": "code",
   "execution_count": 68,
   "outputs": [
    {
     "data": {
      "text/plain": "  protein_accession  protein_score  protein_avg_mass  \\\n0            Q96EG1            0.0        57913.1781   \n1            Q8TEX9            0.0       120633.6768   \n2            Q0VDD8            0.0       405223.5318   \n3            Q9HCH5            0.0       105285.2734   \n4            Q9BYN7            0.0        95001.7193   \n\n   protein_matched_products  protein_matched_peptides  protein_digest_peps  \\\n0                         0                         1                   33   \n1                         3                         1                   84   \n2                        10                         3                  268   \n3                         1                         3                   85   \n4                         7                         2                   43   \n\n   protein_seq_cover_percent  protein_matched_peptide_inten_sum  \\\n0                        0.0                               2767   \n1                        0.0                               1469   \n2                        0.0                              13319   \n3                        0.0                             130667   \n4                        0.0                               3633   \n\n   protein_top3matched_peptide_inten_sum  protein_matched_product_inten_sum  \\\n0                                    0.0                                339   \n1                                    0.0                                488   \n2                                    0.0                               2544   \n3                                    0.0                                422   \n4                                    0.0                               1708   \n\n  protein_auto_curate  protein_sum_num_by_calc  protein_sum_num_by_pep_frag1  \\\n0               Green                 5.981677                             0   \n1                 Red                 6.113683                             0   \n2                 Red                19.128590                             0   \n3               Green                28.732410                             0   \n4                 Red                 7.312799                             0   \n\n   protein_num_unique_peptides  \n0                            0  \n1                            0  \n2                            0  \n3                            0  \n4                            0  ",
      "text/html": "<div>\n<style scoped>\n    .dataframe tbody tr th:only-of-type {\n        vertical-align: middle;\n    }\n\n    .dataframe tbody tr th {\n        vertical-align: top;\n    }\n\n    .dataframe thead th {\n        text-align: right;\n    }\n</style>\n<table border=\"1\" class=\"dataframe\">\n  <thead>\n    <tr style=\"text-align: right;\">\n      <th></th>\n      <th>protein_accession</th>\n      <th>protein_score</th>\n      <th>protein_avg_mass</th>\n      <th>protein_matched_products</th>\n      <th>protein_matched_peptides</th>\n      <th>protein_digest_peps</th>\n      <th>protein_seq_cover_percent</th>\n      <th>protein_matched_peptide_inten_sum</th>\n      <th>protein_top3matched_peptide_inten_sum</th>\n      <th>protein_matched_product_inten_sum</th>\n      <th>protein_auto_curate</th>\n      <th>protein_sum_num_by_calc</th>\n      <th>protein_sum_num_by_pep_frag1</th>\n      <th>protein_num_unique_peptides</th>\n    </tr>\n  </thead>\n  <tbody>\n    <tr>\n      <th>0</th>\n      <td>Q96EG1</td>\n      <td>0.0</td>\n      <td>57913.1781</td>\n      <td>0</td>\n      <td>1</td>\n      <td>33</td>\n      <td>0.0</td>\n      <td>2767</td>\n      <td>0.0</td>\n      <td>339</td>\n      <td>Green</td>\n      <td>5.981677</td>\n      <td>0</td>\n      <td>0</td>\n    </tr>\n    <tr>\n      <th>1</th>\n      <td>Q8TEX9</td>\n      <td>0.0</td>\n      <td>120633.6768</td>\n      <td>3</td>\n      <td>1</td>\n      <td>84</td>\n      <td>0.0</td>\n      <td>1469</td>\n      <td>0.0</td>\n      <td>488</td>\n      <td>Red</td>\n      <td>6.113683</td>\n      <td>0</td>\n      <td>0</td>\n    </tr>\n    <tr>\n      <th>2</th>\n      <td>Q0VDD8</td>\n      <td>0.0</td>\n      <td>405223.5318</td>\n      <td>10</td>\n      <td>3</td>\n      <td>268</td>\n      <td>0.0</td>\n      <td>13319</td>\n      <td>0.0</td>\n      <td>2544</td>\n      <td>Red</td>\n      <td>19.128590</td>\n      <td>0</td>\n      <td>0</td>\n    </tr>\n    <tr>\n      <th>3</th>\n      <td>Q9HCH5</td>\n      <td>0.0</td>\n      <td>105285.2734</td>\n      <td>1</td>\n      <td>3</td>\n      <td>85</td>\n      <td>0.0</td>\n      <td>130667</td>\n      <td>0.0</td>\n      <td>422</td>\n      <td>Green</td>\n      <td>28.732410</td>\n      <td>0</td>\n      <td>0</td>\n    </tr>\n    <tr>\n      <th>4</th>\n      <td>Q9BYN7</td>\n      <td>0.0</td>\n      <td>95001.7193</td>\n      <td>7</td>\n      <td>2</td>\n      <td>43</td>\n      <td>0.0</td>\n      <td>3633</td>\n      <td>0.0</td>\n      <td>1708</td>\n      <td>Red</td>\n      <td>7.312799</td>\n      <td>0</td>\n      <td>0</td>\n    </tr>\n  </tbody>\n</table>\n</div>"
     },
     "execution_count": 68,
     "metadata": {},
     "output_type": "execute_result"
    }
   ],
   "source": [
    "proteins = pd.read_csv('../data/proteins-sample-0981.csv')\n",
    "proteins.head()"
   ],
   "metadata": {
    "collapsed": false,
    "pycharm": {
     "name": "#%%\n"
    }
   }
  },
  {
   "cell_type": "code",
   "execution_count": 69,
   "outputs": [
    {
     "data": {
      "text/plain": "     acc_code                                       protein_name gene_name_s  \\\n0  A0A024RBG1  Diphosphoinositol polyphosphate phosphohydrola...      NUDT4B   \n1  A0A075B6H7  Probable non-functional immunoglobulin kappa v...     IGKV3-7   \n2  A0A075B6H8  Probable non-functional immunoglobulin kappa v...   IGKV1D-42   \n3  A0A075B6H9                Immunoglobulin lambda variable 4-69    IGLV4-69   \n4  A0A075B6I0                Immunoglobulin lambda variable 8-61    IGLV8-61   \n\n  chromosome proteomics disease structure  number_isof  number_variants  \\\n0     1q21.2        yes      no        no            1                0   \n1     2p11.2        yes      no        no            1              187   \n2     2p11.2        yes      no        no            1              140   \n3   22q11.22        yes      no        no            1              318   \n4   22q11.22        yes      no        no            1              256   \n\n   number_ptms mutagenesis tissue_expr                         pe  \n0            0          no         yes  Evidence at protein level  \n1            1          no         yes  Evidence at protein level  \n2            1          no         yes  Evidence at protein level  \n3            1          no         yes  Evidence at protein level  \n4            1          no         yes  Evidence at protein level  ",
      "text/html": "<div>\n<style scoped>\n    .dataframe tbody tr th:only-of-type {\n        vertical-align: middle;\n    }\n\n    .dataframe tbody tr th {\n        vertical-align: top;\n    }\n\n    .dataframe thead th {\n        text-align: right;\n    }\n</style>\n<table border=\"1\" class=\"dataframe\">\n  <thead>\n    <tr style=\"text-align: right;\">\n      <th></th>\n      <th>acc_code</th>\n      <th>protein_name</th>\n      <th>gene_name_s</th>\n      <th>chromosome</th>\n      <th>proteomics</th>\n      <th>disease</th>\n      <th>structure</th>\n      <th>number_isof</th>\n      <th>number_variants</th>\n      <th>number_ptms</th>\n      <th>mutagenesis</th>\n      <th>tissue_expr</th>\n      <th>pe</th>\n    </tr>\n  </thead>\n  <tbody>\n    <tr>\n      <th>0</th>\n      <td>A0A024RBG1</td>\n      <td>Diphosphoinositol polyphosphate phosphohydrola...</td>\n      <td>NUDT4B</td>\n      <td>1q21.2</td>\n      <td>yes</td>\n      <td>no</td>\n      <td>no</td>\n      <td>1</td>\n      <td>0</td>\n      <td>0</td>\n      <td>no</td>\n      <td>yes</td>\n      <td>Evidence at protein level</td>\n    </tr>\n    <tr>\n      <th>1</th>\n      <td>A0A075B6H7</td>\n      <td>Probable non-functional immunoglobulin kappa v...</td>\n      <td>IGKV3-7</td>\n      <td>2p11.2</td>\n      <td>yes</td>\n      <td>no</td>\n      <td>no</td>\n      <td>1</td>\n      <td>187</td>\n      <td>1</td>\n      <td>no</td>\n      <td>yes</td>\n      <td>Evidence at protein level</td>\n    </tr>\n    <tr>\n      <th>2</th>\n      <td>A0A075B6H8</td>\n      <td>Probable non-functional immunoglobulin kappa v...</td>\n      <td>IGKV1D-42</td>\n      <td>2p11.2</td>\n      <td>yes</td>\n      <td>no</td>\n      <td>no</td>\n      <td>1</td>\n      <td>140</td>\n      <td>1</td>\n      <td>no</td>\n      <td>yes</td>\n      <td>Evidence at protein level</td>\n    </tr>\n    <tr>\n      <th>3</th>\n      <td>A0A075B6H9</td>\n      <td>Immunoglobulin lambda variable 4-69</td>\n      <td>IGLV4-69</td>\n      <td>22q11.22</td>\n      <td>yes</td>\n      <td>no</td>\n      <td>no</td>\n      <td>1</td>\n      <td>318</td>\n      <td>1</td>\n      <td>no</td>\n      <td>yes</td>\n      <td>Evidence at protein level</td>\n    </tr>\n    <tr>\n      <th>4</th>\n      <td>A0A075B6I0</td>\n      <td>Immunoglobulin lambda variable 8-61</td>\n      <td>IGLV8-61</td>\n      <td>22q11.22</td>\n      <td>yes</td>\n      <td>no</td>\n      <td>no</td>\n      <td>1</td>\n      <td>256</td>\n      <td>1</td>\n      <td>no</td>\n      <td>yes</td>\n      <td>Evidence at protein level</td>\n    </tr>\n  </tbody>\n</table>\n</div>"
     },
     "execution_count": 69,
     "metadata": {},
     "output_type": "execute_result"
    }
   ],
   "source": [
    "nextprot_dat = pd.read_csv('../data/nextprot-proteins.csv')\n",
    "nextprot_dat.head()"
   ],
   "metadata": {
    "collapsed": false,
    "pycharm": {
     "name": "#%%\n"
    }
   }
  },
  {
   "cell_type": "code",
   "execution_count": 70,
   "outputs": [
    {
     "data": {
      "text/plain": "LabelEncoder()",
      "text/html": "<style>#sk-container-id-5 {color: black;background-color: white;}#sk-container-id-5 pre{padding: 0;}#sk-container-id-5 div.sk-toggleable {background-color: white;}#sk-container-id-5 label.sk-toggleable__label {cursor: pointer;display: block;width: 100%;margin-bottom: 0;padding: 0.3em;box-sizing: border-box;text-align: center;}#sk-container-id-5 label.sk-toggleable__label-arrow:before {content: \"▸\";float: left;margin-right: 0.25em;color: #696969;}#sk-container-id-5 label.sk-toggleable__label-arrow:hover:before {color: black;}#sk-container-id-5 div.sk-estimator:hover label.sk-toggleable__label-arrow:before {color: black;}#sk-container-id-5 div.sk-toggleable__content {max-height: 0;max-width: 0;overflow: hidden;text-align: left;background-color: #f0f8ff;}#sk-container-id-5 div.sk-toggleable__content pre {margin: 0.2em;color: black;border-radius: 0.25em;background-color: #f0f8ff;}#sk-container-id-5 input.sk-toggleable__control:checked~div.sk-toggleable__content {max-height: 200px;max-width: 100%;overflow: auto;}#sk-container-id-5 input.sk-toggleable__control:checked~label.sk-toggleable__label-arrow:before {content: \"▾\";}#sk-container-id-5 div.sk-estimator input.sk-toggleable__control:checked~label.sk-toggleable__label {background-color: #d4ebff;}#sk-container-id-5 div.sk-label input.sk-toggleable__control:checked~label.sk-toggleable__label {background-color: #d4ebff;}#sk-container-id-5 input.sk-hidden--visually {border: 0;clip: rect(1px 1px 1px 1px);clip: rect(1px, 1px, 1px, 1px);height: 1px;margin: -1px;overflow: hidden;padding: 0;position: absolute;width: 1px;}#sk-container-id-5 div.sk-estimator {font-family: monospace;background-color: #f0f8ff;border: 1px dotted black;border-radius: 0.25em;box-sizing: border-box;margin-bottom: 0.5em;}#sk-container-id-5 div.sk-estimator:hover {background-color: #d4ebff;}#sk-container-id-5 div.sk-parallel-item::after {content: \"\";width: 100%;border-bottom: 1px solid gray;flex-grow: 1;}#sk-container-id-5 div.sk-label:hover label.sk-toggleable__label {background-color: #d4ebff;}#sk-container-id-5 div.sk-serial::before {content: \"\";position: absolute;border-left: 1px solid gray;box-sizing: border-box;top: 0;bottom: 0;left: 50%;z-index: 0;}#sk-container-id-5 div.sk-serial {display: flex;flex-direction: column;align-items: center;background-color: white;padding-right: 0.2em;padding-left: 0.2em;position: relative;}#sk-container-id-5 div.sk-item {position: relative;z-index: 1;}#sk-container-id-5 div.sk-parallel {display: flex;align-items: stretch;justify-content: center;background-color: white;position: relative;}#sk-container-id-5 div.sk-item::before, #sk-container-id-5 div.sk-parallel-item::before {content: \"\";position: absolute;border-left: 1px solid gray;box-sizing: border-box;top: 0;bottom: 0;left: 50%;z-index: -1;}#sk-container-id-5 div.sk-parallel-item {display: flex;flex-direction: column;z-index: 1;position: relative;background-color: white;}#sk-container-id-5 div.sk-parallel-item:first-child::after {align-self: flex-end;width: 50%;}#sk-container-id-5 div.sk-parallel-item:last-child::after {align-self: flex-start;width: 50%;}#sk-container-id-5 div.sk-parallel-item:only-child::after {width: 0;}#sk-container-id-5 div.sk-dashed-wrapped {border: 1px dashed gray;margin: 0 0.4em 0.5em 0.4em;box-sizing: border-box;padding-bottom: 0.4em;background-color: white;}#sk-container-id-5 div.sk-label label {font-family: monospace;font-weight: bold;display: inline-block;line-height: 1.2em;}#sk-container-id-5 div.sk-label-container {text-align: center;}#sk-container-id-5 div.sk-container {/* jupyter's `normalize.less` sets `[hidden] { display: none; }` but bootstrap.min.css set `[hidden] { display: none !important; }` so we also need the `!important` here to be able to override the default hidden behavior on the sphinx rendered scikit-learn.org. See: https://github.com/scikit-learn/scikit-learn/issues/21755 */display: inline-block !important;position: relative;}#sk-container-id-5 div.sk-text-repr-fallback {display: none;}</style><div id=\"sk-container-id-5\" class=\"sk-top-container\"><div class=\"sk-text-repr-fallback\"><pre>LabelEncoder()</pre><b>In a Jupyter environment, please rerun this cell to show the HTML representation or trust the notebook. <br />On GitHub, the HTML representation is unable to render, please try loading this page with nbviewer.org.</b></div><div class=\"sk-container\" hidden><div class=\"sk-item\"><div class=\"sk-estimator sk-toggleable\"><input class=\"sk-toggleable__control sk-hidden--visually\" id=\"sk-estimator-id-5\" type=\"checkbox\" checked><label for=\"sk-estimator-id-5\" class=\"sk-toggleable__label sk-toggleable__label-arrow\">LabelEncoder</label><div class=\"sk-toggleable__content\"><pre>LabelEncoder()</pre></div></div></div></div></div>"
     },
     "execution_count": 70,
     "metadata": {},
     "output_type": "execute_result"
    },
    {
     "data": {
      "text/plain": "array(['A0A024RBG1', 'A0A075B6H7', 'A0A075B6H8', ..., 'W5XKT8', 'W6CW81',\n       'X6R8D5'], dtype=object)"
     },
     "execution_count": 70,
     "metadata": {},
     "output_type": "execute_result"
    }
   ],
   "source": [
    "from sklearn.preprocessing import LabelEncoder\n",
    "le = LabelEncoder()\n",
    "le.fit(nextprot_dat['acc_code'])\n",
    "le.classes_"
   ],
   "metadata": {
    "collapsed": false,
    "pycharm": {
     "name": "#%%\n"
    }
   }
  },
  {
   "cell_type": "markdown",
   "source": [
    "Transform protein accession to integer ID"
   ],
   "metadata": {
    "collapsed": false,
    "pycharm": {
     "name": "#%% md\n"
    }
   }
  },
  {
   "cell_type": "code",
   "execution_count": 71,
   "outputs": [],
   "source": [
    "# proteins['acc_int_id'] = le.transform(proteins['protein_accession'])\n",
    "# ppi_dat['protein1_acc_int_id'] = le.transform(ppi_dat['protein1_acc'])\n",
    "# ppi_dat['protein2_acc_int_id'] = le.transform(ppi_dat['protein2_acc'])"
   ],
   "metadata": {
    "collapsed": false,
    "pycharm": {
     "name": "#%%\n"
    }
   }
  },
  {
   "cell_type": "markdown",
   "source": [],
   "metadata": {
    "collapsed": false,
    "pycharm": {
     "name": "#%% md\n"
    }
   }
  },
  {
   "cell_type": "markdown",
   "source": [
    "## Proteins in PPI dataset but not in protein dataset\n",
    "The protein dataset contain protein existence evidence information from an experiment (mostly  calculated protein identification features from MS spectrum)\n",
    "\n",
    "The number of unique proteins in protein dataset and PPI dataset may not be the same.\n",
    "We can either: 1. create those new protein entry in the protein dataset\n",
    "or 2. only use PPI interaction information about proteins that exist in the protein dataset"
   ],
   "metadata": {
    "collapsed": false,
    "pycharm": {
     "name": "#%% md\n"
    }
   }
  },
  {
   "cell_type": "code",
   "execution_count": 72,
   "outputs": [],
   "source": [
    "# use approach 2 for simplicity\n",
    "ppi_dat = ppi_dat[ppi_dat.protein1_acc.isin(proteins.protein_accession) & ppi_dat.protein2_acc.isin(proteins.protein_accession)]"
   ],
   "metadata": {
    "collapsed": false,
    "pycharm": {
     "name": "#%%\n"
    }
   }
  },
  {
   "cell_type": "markdown",
   "source": [
    "# Create customized dataset"
   ],
   "metadata": {
    "collapsed": false,
    "pycharm": {
     "name": "#%% md\n"
    }
   }
  },
  {
   "cell_type": "code",
   "execution_count": 116,
   "outputs": [],
   "source": [
    "mapping = {index: i for i, index in enumerate(proteins.protein_accession.unique())}"
   ],
   "metadata": {
    "collapsed": false,
    "pycharm": {
     "name": "#%%\n"
    }
   }
  },
  {
   "cell_type": "code",
   "execution_count": 117,
   "outputs": [],
   "source": [
    "import torch\n",
    "node_attr = proteins.loc[:, ~proteins.columns.isin(['protein_accession', 'proteins.columns'])]"
   ],
   "metadata": {
    "collapsed": false,
    "pycharm": {
     "name": "#%%\n"
    }
   }
  },
  {
   "cell_type": "code",
   "execution_count": 104,
   "outputs": [],
   "source": [
    "# need to define some helper encoder and transformer class\n",
    "\n",
    "class LogTransformation(object):\n",
    "    def __init__(self, dtype=None):\n",
    "        self.dtype = dtype\n",
    "\n",
    "    def __call__(self, df):\n",
    "        return torch.from_numpy(np.log10(df.values+ 1)).view(-1, 1).to(self.dtype)"
   ],
   "metadata": {
    "collapsed": false,
    "pycharm": {
     "name": "#%%\n"
    }
   }
  },
  {
   "cell_type": "code",
   "execution_count": 106,
   "outputs": [],
   "source": [
    "log_transformer = LogTransformation(dtype=torch.float)\n",
    "x = log_transformer(node_attr.protein_score)\n",
    "# also need train_masking, test_masking"
   ],
   "metadata": {
    "collapsed": false,
    "pycharm": {
     "name": "#%%\n"
    }
   }
  },
  {
   "cell_type": "code",
   "execution_count": 61,
   "outputs": [],
   "source": [
    "src = [mapping[index] for index in ppi_dat.protein1_acc]\n",
    "dst = [mapping[index] for index in ppi_dat.protein2_acc]\n",
    "edge_index = torch.tensor([src, dst])\n",
    "edge_index_reverse = torch.tensor([dst, src])"
   ],
   "metadata": {
    "collapsed": false,
    "pycharm": {
     "name": "#%%\n"
    }
   }
  },
  {
   "cell_type": "code",
   "execution_count": 110,
   "outputs": [],
   "source": [
    "edge_attr = torch.tensor(ppi_dat.combined_score.values).view(-1, 1)"
   ],
   "metadata": {
    "collapsed": false,
    "pycharm": {
     "name": "#%%\n"
    }
   }
  },
  {
   "cell_type": "code",
   "execution_count": null,
   "outputs": [],
   "source": [
    "from  torch_geometric.data import Data"
   ],
   "metadata": {
    "collapsed": false,
    "pycharm": {
     "name": "#%%\n",
     "is_executing": true
    }
   }
  },
  {
   "cell_type": "code",
   "execution_count": 112,
   "outputs": [],
   "source": [
    "# create graph dataset with node features, edge index, and edge attributes\n",
    "dataset = Data(x=x, edge_index=edge_index, edge_attr=edge_attr)"
   ],
   "metadata": {
    "collapsed": false,
    "pycharm": {
     "name": "#%%\n"
    }
   }
  },
  {
   "cell_type": "code",
   "execution_count": 114,
   "outputs": [
    {
     "name": "stdout",
     "output_type": "stream",
     "text": [
      "Number of nodes: 10628\n",
      "Number of edges: 4938716\n",
      "Average node degree: 464.69\n"
     ]
    },
    {
     "ename": "AttributeError",
     "evalue": "'GlobalStorage' object has no attribute 'train_mask'",
     "output_type": "error",
     "traceback": [
      "\u001B[0;31m---------------------------------------------------------------------------\u001B[0m",
      "\u001B[0;31mKeyError\u001B[0m                                  Traceback (most recent call last)",
      "File \u001B[0;32m~/opt/anaconda3/envs/graph-neural-network/lib/python3.10/site-packages/torch_geometric/data/storage.py:62\u001B[0m, in \u001B[0;36mBaseStorage.__getattr__\u001B[0;34m(self, key)\u001B[0m\n\u001B[1;32m     61\u001B[0m \u001B[38;5;28;01mtry\u001B[39;00m:\n\u001B[0;32m---> 62\u001B[0m     \u001B[38;5;28;01mreturn\u001B[39;00m \u001B[38;5;28;43mself\u001B[39;49m\u001B[43m[\u001B[49m\u001B[43mkey\u001B[49m\u001B[43m]\u001B[49m\n\u001B[1;32m     63\u001B[0m \u001B[38;5;28;01mexcept\u001B[39;00m \u001B[38;5;167;01mKeyError\u001B[39;00m:\n",
      "File \u001B[0;32m~/opt/anaconda3/envs/graph-neural-network/lib/python3.10/site-packages/torch_geometric/data/storage.py:85\u001B[0m, in \u001B[0;36mBaseStorage.__getitem__\u001B[0;34m(self, key)\u001B[0m\n\u001B[1;32m     84\u001B[0m \u001B[38;5;28;01mdef\u001B[39;00m \u001B[38;5;21m__getitem__\u001B[39m(\u001B[38;5;28mself\u001B[39m, key: \u001B[38;5;28mstr\u001B[39m) \u001B[38;5;241m-\u001B[39m\u001B[38;5;241m>\u001B[39m Any:\n\u001B[0;32m---> 85\u001B[0m     \u001B[38;5;28;01mreturn\u001B[39;00m \u001B[38;5;28;43mself\u001B[39;49m\u001B[38;5;241;43m.\u001B[39;49m\u001B[43m_mapping\u001B[49m\u001B[43m[\u001B[49m\u001B[43mkey\u001B[49m\u001B[43m]\u001B[49m\n",
      "\u001B[0;31mKeyError\u001B[0m: 'train_mask'",
      "\nDuring handling of the above exception, another exception occurred:\n",
      "\u001B[0;31mAttributeError\u001B[0m                            Traceback (most recent call last)",
      "Cell \u001B[0;32mIn[114], line 4\u001B[0m\n\u001B[1;32m      2\u001B[0m \u001B[38;5;28mprint\u001B[39m(\u001B[38;5;124mf\u001B[39m\u001B[38;5;124m'\u001B[39m\u001B[38;5;124mNumber of edges: \u001B[39m\u001B[38;5;132;01m{\u001B[39;00mdataset\u001B[38;5;241m.\u001B[39mnum_edges\u001B[38;5;132;01m}\u001B[39;00m\u001B[38;5;124m'\u001B[39m)\n\u001B[1;32m      3\u001B[0m \u001B[38;5;28mprint\u001B[39m(\u001B[38;5;124mf\u001B[39m\u001B[38;5;124m'\u001B[39m\u001B[38;5;124mAverage node degree: \u001B[39m\u001B[38;5;132;01m{\u001B[39;00mdataset\u001B[38;5;241m.\u001B[39mnum_edges \u001B[38;5;241m/\u001B[39m dataset\u001B[38;5;241m.\u001B[39mnum_nodes\u001B[38;5;132;01m:\u001B[39;00m\u001B[38;5;124m.2f\u001B[39m\u001B[38;5;132;01m}\u001B[39;00m\u001B[38;5;124m'\u001B[39m)\n\u001B[0;32m----> 4\u001B[0m \u001B[38;5;28mprint\u001B[39m(\u001B[38;5;124mf\u001B[39m\u001B[38;5;124m'\u001B[39m\u001B[38;5;124mNumber of training nodes: \u001B[39m\u001B[38;5;132;01m{\u001B[39;00mdataset\u001B[38;5;241m.\u001B[39mtrain_mask\u001B[38;5;241m.\u001B[39msum()\u001B[38;5;132;01m}\u001B[39;00m\u001B[38;5;124m'\u001B[39m)\n\u001B[1;32m      5\u001B[0m \u001B[38;5;28mprint\u001B[39m(\u001B[38;5;124mf\u001B[39m\u001B[38;5;124m'\u001B[39m\u001B[38;5;124mTraining node label rate: \u001B[39m\u001B[38;5;132;01m{\u001B[39;00m\u001B[38;5;28mint\u001B[39m(dataset\u001B[38;5;241m.\u001B[39mtrain_mask\u001B[38;5;241m.\u001B[39msum()) \u001B[38;5;241m/\u001B[39m dataset\u001B[38;5;241m.\u001B[39mnum_nodes\u001B[38;5;132;01m:\u001B[39;00m\u001B[38;5;124m.2f\u001B[39m\u001B[38;5;132;01m}\u001B[39;00m\u001B[38;5;124m'\u001B[39m)\n\u001B[1;32m      6\u001B[0m \u001B[38;5;28mprint\u001B[39m(\u001B[38;5;124mf\u001B[39m\u001B[38;5;124m'\u001B[39m\u001B[38;5;124mHas isolated nodes: \u001B[39m\u001B[38;5;132;01m{\u001B[39;00mdataset\u001B[38;5;241m.\u001B[39mhas_isolated_nodes()\u001B[38;5;132;01m}\u001B[39;00m\u001B[38;5;124m'\u001B[39m)\n",
      "File \u001B[0;32m~/opt/anaconda3/envs/graph-neural-network/lib/python3.10/site-packages/torch_geometric/data/data.py:428\u001B[0m, in \u001B[0;36mData.__getattr__\u001B[0;34m(self, key)\u001B[0m\n\u001B[1;32m    422\u001B[0m \u001B[38;5;28;01mif\u001B[39;00m \u001B[38;5;124m'\u001B[39m\u001B[38;5;124m_store\u001B[39m\u001B[38;5;124m'\u001B[39m \u001B[38;5;129;01mnot\u001B[39;00m \u001B[38;5;129;01min\u001B[39;00m \u001B[38;5;28mself\u001B[39m\u001B[38;5;241m.\u001B[39m\u001B[38;5;18m__dict__\u001B[39m:\n\u001B[1;32m    423\u001B[0m     \u001B[38;5;28;01mraise\u001B[39;00m \u001B[38;5;167;01mRuntimeError\u001B[39;00m(\n\u001B[1;32m    424\u001B[0m         \u001B[38;5;124m\"\u001B[39m\u001B[38;5;124mThe \u001B[39m\u001B[38;5;124m'\u001B[39m\u001B[38;5;124mdata\u001B[39m\u001B[38;5;124m'\u001B[39m\u001B[38;5;124m object was created by an older version of PyG. \u001B[39m\u001B[38;5;124m\"\u001B[39m\n\u001B[1;32m    425\u001B[0m         \u001B[38;5;124m\"\u001B[39m\u001B[38;5;124mIf this error occurred while loading an already existing \u001B[39m\u001B[38;5;124m\"\u001B[39m\n\u001B[1;32m    426\u001B[0m         \u001B[38;5;124m\"\u001B[39m\u001B[38;5;124mdataset, remove the \u001B[39m\u001B[38;5;124m'\u001B[39m\u001B[38;5;124mprocessed/\u001B[39m\u001B[38;5;124m'\u001B[39m\u001B[38;5;124m directory in the dataset\u001B[39m\u001B[38;5;124m'\u001B[39m\u001B[38;5;124ms \u001B[39m\u001B[38;5;124m\"\u001B[39m\n\u001B[1;32m    427\u001B[0m         \u001B[38;5;124m\"\u001B[39m\u001B[38;5;124mroot folder and try again.\u001B[39m\u001B[38;5;124m\"\u001B[39m)\n\u001B[0;32m--> 428\u001B[0m \u001B[38;5;28;01mreturn\u001B[39;00m \u001B[38;5;28;43mgetattr\u001B[39;49m\u001B[43m(\u001B[49m\u001B[38;5;28;43mself\u001B[39;49m\u001B[38;5;241;43m.\u001B[39;49m\u001B[43m_store\u001B[49m\u001B[43m,\u001B[49m\u001B[43m \u001B[49m\u001B[43mkey\u001B[49m\u001B[43m)\u001B[49m\n",
      "File \u001B[0;32m~/opt/anaconda3/envs/graph-neural-network/lib/python3.10/site-packages/torch_geometric/data/storage.py:64\u001B[0m, in \u001B[0;36mBaseStorage.__getattr__\u001B[0;34m(self, key)\u001B[0m\n\u001B[1;32m     62\u001B[0m     \u001B[38;5;28;01mreturn\u001B[39;00m \u001B[38;5;28mself\u001B[39m[key]\n\u001B[1;32m     63\u001B[0m \u001B[38;5;28;01mexcept\u001B[39;00m \u001B[38;5;167;01mKeyError\u001B[39;00m:\n\u001B[0;32m---> 64\u001B[0m     \u001B[38;5;28;01mraise\u001B[39;00m \u001B[38;5;167;01mAttributeError\u001B[39;00m(\n\u001B[1;32m     65\u001B[0m         \u001B[38;5;124mf\u001B[39m\u001B[38;5;124m\"\u001B[39m\u001B[38;5;124m'\u001B[39m\u001B[38;5;132;01m{\u001B[39;00m\u001B[38;5;28mself\u001B[39m\u001B[38;5;241m.\u001B[39m\u001B[38;5;18m__class__\u001B[39m\u001B[38;5;241m.\u001B[39m\u001B[38;5;18m__name__\u001B[39m\u001B[38;5;132;01m}\u001B[39;00m\u001B[38;5;124m'\u001B[39m\u001B[38;5;124m object has no attribute \u001B[39m\u001B[38;5;124m'\u001B[39m\u001B[38;5;132;01m{\u001B[39;00mkey\u001B[38;5;132;01m}\u001B[39;00m\u001B[38;5;124m'\u001B[39m\u001B[38;5;124m\"\u001B[39m)\n",
      "\u001B[0;31mAttributeError\u001B[0m: 'GlobalStorage' object has no attribute 'train_mask'"
     ]
    }
   ],
   "source": [
    "print(f'Number of nodes: {dataset.num_nodes}')\n",
    "print(f'Number of edges: {dataset.num_edges}')\n",
    "print(f'Average node degree: {dataset.num_edges / dataset.num_nodes:.2f}')\n",
    "print(f'Number of training nodes: {dataset.train_mask.sum()}')\n",
    "print(f'Training node label rate: {int(dataset.train_mask.sum()) / dataset.num_nodes:.2f}')\n",
    "print(f'Has isolated nodes: {dataset.has_isolated_nodes()}')\n",
    "print(f'Has self-loops: {dataset.has_self_loops()}')\n",
    "print(f'Is undirected: {dataset.is_undirected()}')"
   ],
   "metadata": {
    "collapsed": false,
    "pycharm": {
     "name": "#%%\n"
    }
   }
  },
  {
   "cell_type": "code",
   "execution_count": null,
   "outputs": [],
   "source": [
    "import torch\n",
    "from torch.nn import Linear\n",
    "import torch.nn.functional as F\n",
    "\n",
    "\n",
    "class MLP(torch.nn.Module):\n",
    "    def __init__(self, hidden_channels):\n",
    "        super().__init__()\n",
    "        torch.manual_seed(12345)\n",
    "        self.lin1 = Linear(dataset.num_features, hidden_channels)\n",
    "        self.lin2 = Linear(hidden_channels, dataset.num_classes)\n",
    "\n",
    "    def forward(self, x):\n",
    "        x = self.lin1(x)\n",
    "        x = x.relu()\n",
    "        x = F.dropout(x, p=0.5, training=self.training)\n",
    "        x = self.lin2(x)\n",
    "        return x\n",
    "\n",
    "model = MLP(hidden_channels=16)\n",
    "print(model)"
   ],
   "metadata": {
    "collapsed": false,
    "pycharm": {
     "name": "#%%\n"
    }
   }
  }
 ],
 "metadata": {
  "kernelspec": {
   "display_name": "Python 3",
   "language": "python",
   "name": "python3"
  },
  "language_info": {
   "codemirror_mode": {
    "name": "ipython",
    "version": 2
   },
   "file_extension": ".py",
   "mimetype": "text/x-python",
   "name": "python",
   "nbconvert_exporter": "python",
   "pygments_lexer": "ipython2",
   "version": "2.7.6"
  }
 },
 "nbformat": 4,
 "nbformat_minor": 0
}