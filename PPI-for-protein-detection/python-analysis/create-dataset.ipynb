{
 "cells": [
  {
   "cell_type": "code",
   "execution_count": 1,
   "metadata": {
    "collapsed": true,
    "pycharm": {
     "name": "#%%\n"
    }
   },
   "outputs": [],
   "source": [
    "raw_dir = '/Users/cgu3/Library/CloudStorage/OneDrive-InsideMDAnderson/proteomics/project/PPI-for-protein-detection/data/test-data'"
   ]
  },
  {
   "cell_type": "code",
   "execution_count": 2,
   "outputs": [],
   "source": [
    "import numpy as np\n",
    "import pandas as pd\n",
    "import os.path as osp\n",
    "\n",
    "import torch\n",
    "from torch_geometric.data import InMemoryDataset\n",
    "from torch_geometric.data import Data\n",
    "\n",
    "class MyOwnDataset(InMemoryDataset):\n",
    "    def __init__(self, root, protein_filename, interaction_filename, transform=None, pre_transform=None, pre_filter=None):\n",
    "        self.protein_filename = protein_filename\n",
    "        self.interaction_filename = interaction_filename\n",
    "        super().__init__(root, transform, pre_transform, pre_filter)\n",
    "\n",
    "\n",
    "    @property\n",
    "    def raw_file_names(self):\n",
    "        return [self.protein_file, self.interaction_file]\n",
    "\n",
    "    @property\n",
    "    def processed_file_names(self):\n",
    "        return ['torch-geometric-data.pt']\n",
    "\n",
    "    def process(self):\n",
    "\n",
    "        # read protein mass spectrometry data\n",
    "        protein_dir = osp.join(self.raw_dir, self.protein_filename)\n",
    "        dat_7103 = pd.read_csv(protein_dir, index_col='protein.Accession')\n",
    "\n",
    "        # generate confident protein reference set\n",
    "        perc_1 = np.percentile(dat_7103['protein.falsePositiveRate'], 1)\n",
    "        perc_99 = np.percentile(dat_7103['protein.falsePositiveRate'], 99)\n",
    "        confident_positive_proteins = dat_7103[(dat_7103['protein.falsePositiveRate'] <= perc_1)].index.to_list()\n",
    "        confident_negative_proteins = dat_7103[(dat_7103['protein.falsePositiveRate'] >= perc_99)].index.to_list()\n",
    "\n",
    "        numeric_cols = ['protein.avgMass', 'protein.MatchedProducts', 'protein.matchedPeptides', 'protein.digestPeps', 'protein.seqCover(%)', 'protein.MatchedPeptideIntenSum', 'protein.top3MatchedPeptideIntenSum', 'protein.MatchedProductIntenSum', 'protein.sumNumBYCalc', 'protein.sumNumBYPepFrag1', 'protein.falsePositiveRate']\n",
    "\n",
    "        # x is feature tensor for nodes\n",
    "        # y is label tensor with y=1 if protein in the confident positive proteins, y=0 if in the confident negative proteins, -1 otherwise\n",
    "        x, mapping, y = self._load_node_csv(path=protein_dir, index_col='protein.Accession', numeric_cols=numeric_cols, protein_reference=[confident_positive_proteins, confident_negative_proteins])\n",
    "\n",
    "        # read protein-protein-interaction data\n",
    "        interaction_dir = osp.join(self.raw_dir, self.interaction_filename)\n",
    "        ppi = pd.read_csv(interaction_dir)\n",
    "\n",
    "        edge_index, edge_attr = self._load_edge_csv(path=interaction_dir, src_index_col='protein1_acc', dst_index_col='protein2_acc', mapping=mapping,\n",
    "               numeric_cols=['combined_score'])\n",
    "\n",
    "        # the mask used when calculating loss\n",
    "        loss_mask = np.where(y == -1, 0, 1)\n",
    "        data = Data(x=x, edge_index=edge_index, split=1, edge_attr=edge_attr, y=y, loss_mask=torch.tensor(loss_mask, dtype=torch.long))\n",
    "\n",
    "        torch.save(data, osp.join(self.processed_paths[0]))\n",
    "\n",
    "    def _load_node_csv(self, path: str, index_col: str, numeric_cols: list, encoders: object=None, protein_reference:'[iterable, iterable]'=None, **kwargs):\n",
    "            df = pd.read_csv(path, index_col=index_col, **kwargs)\n",
    "            mapping = {index: i for i, index in enumerate(df.index.unique())}\n",
    "\n",
    "            # extract feature doesn't need encoder\n",
    "            x = torch.tensor(df.loc[:, numeric_cols].values, dtype=torch.float)\n",
    "            if encoders is not None:\n",
    "                xs = [encoder(df[col]) for col, encoder in encoders.items()]\n",
    "                x2 = torch.cat(xs, dim=-1).view(-1, 1)\n",
    "                x = torch.hstack([x, x2])\n",
    "\n",
    "\n",
    "            # based on protein reference set to create group-true label\n",
    "            confident_positive_proteins, confident_negative_proteins =protein_reference\n",
    "            y = np.where(df.index.isin(confident_positive_proteins), 1, (np.where(df.index.isin(confident_negative_proteins), 0, -1)))\n",
    "            y = torch.tensor(y).view(-1).to(dtype=torch.long)\n",
    "\n",
    "            return x, mapping, y\n",
    "\n",
    "    def _load_edge_csv(self, path: str, src_index_col: str, dst_index_col: str, mapping: dict,\n",
    "                  numeric_cols: list, encoders: dict=None, undirected: bool=True, **kwargs):\n",
    "        df = pd.read_csv(path, **kwargs)\n",
    "\n",
    "        # only keep interactions related to proteins that in the protein dataset (i.e. in mapping keys)\n",
    "        protein_data_acc = mapping.keys()\n",
    "        df = df[df.protein1_acc.isin(protein_data_acc) & df.protein2_acc.isin(protein_data_acc)]\n",
    "\n",
    "        src = [mapping[index] for index in df[src_index_col]]\n",
    "        dst = [mapping[index] for index in df[dst_index_col]]\n",
    "        edge_index = torch.tensor([src, dst])\n",
    "\n",
    "        edge_attr = None\n",
    "        if numeric_cols is not None:\n",
    "            edge_attr = torch.tensor(df.loc[:, numeric_cols].values, dtype=float)\n",
    "\n",
    "        if encoders is not None:\n",
    "            edge_attrs = [encoder(df[col]) for col, encoder in encoders.items()]\n",
    "            edge_attr = torch.cat(edge_attrs, dim=-1)\n",
    "\n",
    "        # add reversed edges if the graph is undirected\n",
    "        if undirected:\n",
    "            edge_index_reverse = torch.tensor([dst, src])\n",
    "            edge_index = torch.vstack([edge_index, edge_index_reverse])\n",
    "            edge_attr = torch.vstack([edge_attr, edge_attr])\n",
    "\n",
    "        return edge_index, edge_attr"
   ],
   "metadata": {
    "collapsed": false,
    "pycharm": {
     "name": "#%%\n"
    }
   }
  },
  {
   "cell_type": "code",
   "execution_count": 56,
   "outputs": [
    {
     "name": "stderr",
     "output_type": "stream",
     "text": [
      "Processing...\n",
      "Done!\n"
     ]
    },
    {
     "data": {
      "text/plain": "MyOwnDataset()"
     },
     "execution_count": 56,
     "metadata": {},
     "output_type": "execute_result"
    }
   ],
   "source": [
    "MyOwnDataset(root=raw_dir, protein_filename='combined_protein_7103_processed.csv', interaction_filename='STRING-interaction-swiss.csv')"
   ],
   "metadata": {
    "collapsed": false,
    "pycharm": {
     "name": "#%%\n"
    }
   }
  },
  {
   "cell_type": "code",
   "execution_count": null,
   "outputs": [],
   "source": [],
   "metadata": {
    "collapsed": false,
    "pycharm": {
     "name": "#%%\n"
    }
   }
  }
 ],
 "metadata": {
  "kernelspec": {
   "display_name": "Python 3",
   "language": "python",
   "name": "python3"
  },
  "language_info": {
   "codemirror_mode": {
    "name": "ipython",
    "version": 2
   },
   "file_extension": ".py",
   "mimetype": "text/x-python",
   "name": "python",
   "nbconvert_exporter": "python",
   "pygments_lexer": "ipython2",
   "version": "2.7.6"
  }
 },
 "nbformat": 4,
 "nbformat_minor": 0
}